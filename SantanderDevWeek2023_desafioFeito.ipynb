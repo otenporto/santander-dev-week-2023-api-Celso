{
  "nbformat": 4,
  "nbformat_minor": 0,
  "metadata": {
    "colab": {
      "provenance": [],
      "collapsed_sections": [
        "kNuP0SDUZMBY"
      ],
      "include_colab_link": true
    },
    "kernelspec": {
      "name": "python3",
      "display_name": "Python 3"
    },
    "language_info": {
      "name": "python"
    }
  },
  "cells": [
    {
      "cell_type": "markdown",
      "metadata": {
        "id": "view-in-github",
        "colab_type": "text"
      },
      "source": [
        "<a href=\"https://colab.research.google.com/github/otenporto/santander-dev-week-2023-api-Celso/blob/main/SantanderDevWeek2023_desafioFeito.ipynb\" target=\"_parent\"><img src=\"https://colab.research.google.com/assets/colab-badge.svg\" alt=\"Open In Colab\"/></a>"
      ]
    },
    {
      "cell_type": "markdown",
      "source": [
        "# Santander Dev Week 2023 (ETL com Python)"
      ],
      "metadata": {
        "id": "BPJQsTCULaC-"
      }
    },
    {
      "cell_type": "markdown",
      "source": [
        "\n",
        "**Contexto:** Você é um cientista de dados no Santander e recebeu a tarefa de envolver seus clientes de maneira mais personalizada. Seu objetivo é usar o poder da IA Generativa para criar mensagens de marketing personalizadas que serão entregues a cada cliente.\n",
        "\n",
        "**Condições do Problema:**\n",
        "\n",
        "1. Você recebeu uma planilha simples, em formato CSV ('SDW2023.csv'), com uma lista de IDs de usuário do banco:\n",
        "  ```\n",
        "  UserID\n",
        "  1\n",
        "  2\n",
        "  3\n",
        "  4\n",
        "  5\n",
        "  ```\n",
        "2. Seu trabalho é consumir o endpoint `GET https://sdw-2023-prd.up.railway.app/users/{id}` (API da Santander Dev Week 2023) para obter os dados de cada cliente.\n",
        "3. Depois de obter os dados dos clientes, você vai usar a API do ChatGPT (OpenAI) para gerar uma mensagem de marketing personalizada para cada cliente. Essa mensagem deve enfatizar a importância dos investimentos.\n",
        "4. Uma vez que a mensagem para cada cliente esteja pronta, você vai enviar essas informações de volta para a API, atualizando a lista de \"news\" de cada usuário usando o endpoint `PUT https://sdw-2023-prd.up.railway.app/users/{id}`.\n",
        "\n"
      ],
      "metadata": {
        "id": "k5fA5OrXt1a3"
      }
    },
    {
      "cell_type": "code",
      "source": [
        "# EXTRAINDO\n",
        "\n",
        "import pandas as pd\n",
        "import requests\n",
        "import json\n",
        "import openai\n",
        "\n",
        "df = pd.read_csv('SantanderPythonBootcamp.csv')\n",
        "\n",
        "id_alunos = df['id_aluno'].tolist()\n",
        "lista_alunos = df['alunos'].tolist()\n",
        "\n",
        "# TRANSFORMANDO\n",
        "\n",
        "notas = ['9.5', '8.6', '5.7', '9.8']\n",
        "df['notas'] = notas\n",
        "\n",
        "'''\n",
        "openai_api_key = 'x'\n",
        "openai.api_key = openai_api_key\n",
        "\n",
        "def generate_ai_news(aluno):\n",
        "  completion = openai.ChatCompletion.create(\n",
        "    model=\"gpt-3.5-turbo\",\n",
        "    messages=[\n",
        "      {\n",
        "          \"role\": \"system\",\n",
        "          \"content\": \"Você é um professor de Ciência de Dados.\"\n",
        "      },\n",
        "      {\n",
        "          \"role\": \"user\",\n",
        "          \"content\": f\"Crie uma mensagem para {aluno} sobre a importância da cultura data driven para o mercado de trabalho na atualidade! (máximo de 100 caracteres)\"\n",
        "      }\n",
        "    ]\n",
        "  )\n",
        "  return completion.choices[0].message.content.strip('\\\"')\n",
        "\n",
        "for aluno in lista_alunos:\n",
        "  news = generate_ai_news(aluno)\n",
        "  print(news)\n",
        "'''\n",
        "\n",
        "# CARREGANDO\n",
        "\n",
        "output_file = 'SantanderPythonBootcamp_desafioFeito.csv'\n",
        "\n",
        "df.to_csv(output_file, index=False)\n",
        "\n",
        "print(f'Dados carregados com sucesso em {output_file}')\n"
      ],
      "metadata": {
        "id": "zPJpDZjv4eRp",
        "outputId": "2a3c2c97-7e75-4b00-f262-214333e4afe3",
        "colab": {
          "base_uri": "https://localhost:8080/"
        }
      },
      "execution_count": 35,
      "outputs": [
        {
          "output_type": "stream",
          "name": "stdout",
          "text": [
            "Dados carregados com sucesso em SantanderPythonBootcamp_desafioFeito.csv\n"
          ]
        }
      ]
    }
  ]
}